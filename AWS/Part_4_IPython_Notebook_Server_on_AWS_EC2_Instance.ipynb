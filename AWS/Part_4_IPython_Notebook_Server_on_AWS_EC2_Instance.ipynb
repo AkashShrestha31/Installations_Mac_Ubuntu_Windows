{
 "cells": [
  {
   "cell_type": "markdown",
   "metadata": {},
   "source": [
    "<h1 align=\"center\"><span style =\"color:black;font-weight:bold\">Getting Started with Amazon Web Services (AWS) EC2: Part 4 IPython Notebook Server on EC2</span> </h1>\n",
    "<br><br>Follow Along on youtube: https://www.youtube.com/watch?v=HJ_ayBsZytg\n",
    "<br>\n"
   ]
  },
  {
   "cell_type": "markdown",
   "metadata": {},
   "source": [
    "1) ssh to your EC2 instance\n",
    "\n",
    "ssh -i /path_to_key/my_key.pem user_name@public_dns_name"
   ]
  },
  {
   "cell_type": "markdown",
   "metadata": {},
   "source": [
    "2) type <b>ipython</b> into the terminal\n",
    "\n",
    "<img src=\"images/ipython.png\" height=\"340\" width=\"340\">"
   ]
  },
  {
   "cell_type": "markdown",
   "metadata": {
    "collapsed": true
   },
   "source": [
    "3) type <br>\n",
    "<b>jupyter notebook --generate-config </b> <br>\n",
    "<b>mkdir certs</b><br>\n",
    "<b>cd certs</b><br>\n",
    "<b>sudo openssl req -x509 -nodes -days 365 -newkey rsa:1024 -keyout mycert.pem -out mycert.pem</b><br>\n",
    "<b>cd ~/.jupyter/</b><br>\n",
    "<b>nano jupyter_notebook_config.py</b><br>"
   ]
  },
  {
   "cell_type": "markdown",
   "metadata": {},
   "source": [
    "4) Add the following to the top of jupyter_notebook_config.py \n",
    "\n",
    "c = get_config()\n",
    "\n",
    "c.IPKernelApp.pylab = 'inline' <br>\n",
    "c.NotebookApp.certfile = u'/home/ubuntu/certs/mycert.pem' <br>\n",
    "c.NotebookApp.ip = '*' <br>\n",
    "c.NotebookApp.open_browser = False   <br>\n",
    "c.NotebookApp.password = u'sha1:941c93244463:0a28b4a9a472da0dc28e79351660964ab81605ae' <br>\n",
    "c.NotebookApp.port = 8888\n"
   ]
  },
  {
   "cell_type": "markdown",
   "metadata": {},
   "source": [
    "5) exit out of the .py file and type the following into the terminal\n",
    "<b>nohup jupyter notebook</b>"
   ]
  },
  {
   "cell_type": "markdown",
   "metadata": {},
   "source": [
    "Done!\n",
    "\n",
    "Many thanks to Piyush Agarwal for his blog post on running IPython server on AWS"
   ]
  }
 ],
 "metadata": {
  "kernelspec": {
   "display_name": "Python 2",
   "language": "python",
   "name": "python2"
  },
  "language_info": {
   "codemirror_mode": {
    "name": "ipython",
    "version": 2
   },
   "file_extension": ".py",
   "mimetype": "text/x-python",
   "name": "python",
   "nbconvert_exporter": "python",
   "pygments_lexer": "ipython2",
   "version": "2.7.12"
  }
 },
 "nbformat": 4,
 "nbformat_minor": 0
}
