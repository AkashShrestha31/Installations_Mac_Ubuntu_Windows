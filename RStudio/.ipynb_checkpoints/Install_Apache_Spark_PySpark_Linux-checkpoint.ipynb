{
 "cells": [
  {
   "cell_type": "markdown",
   "metadata": {},
   "source": [
    "<h1 align=\"center\"><span style =\"color:black;font-weight:bold\">Install R + RStudio on Ubuntu 12.04/14.04/16.04 </span> </h1>\n",
    "<p></p><p></p>Youtube tutorial Install PySpark on Linux available at: \n"
   ]
  },
  {
   "cell_type": "markdown",
   "metadata": {},
   "source": [
    "1) Get the Latest R Version and Install It\n",
    "\n",
    "<span style =\"color:red;\"> sudo add-apt-repository ppa:opencpu/rstudio </span>\n",
    "\n",
    "<span style =\"color:red;\"> sudo apt-get update </span>\n",
    "\n",
    "<span style =\"color:red;\"> sudo apt-get install rstudio-server </span>\n"
   ]
  },
  {
   "cell_type": "markdown",
   "metadata": {},
   "source": [
    "2) Check if Installation works by Opening RStudio and typing the command in red\n",
    "\n",
    "<span style =\"color:red;\"> install.packages(\"data.table\") </span>\n",
    "\n"
   ]
  },
  {
   "cell_type": "markdown",
   "metadata": {},
   "source": [
    "<img src=\"images/bashrc.png\" height=\"340\" width=\"340\">"
   ]
  },
  {
   "cell_type": "markdown",
   "metadata": {},
   "source": [
    "<span style =\"color:black;font-weight:bold;font-size: 18px;\">What is a PPA? </span>"
   ]
  },
  {
   "cell_type": "markdown",
   "metadata": {},
   "source": [
    "Personal Package Archive, is a collection of software not included in Ubuntu by default.\n",
    "\n",
    "http://www.makeuseof.com/tag/ubuntu-ppa-technology-explained/"
   ]
  }
 ],
 "metadata": {
  "kernelspec": {
   "display_name": "Python 2",
   "language": "python",
   "name": "python2"
  },
  "language_info": {
   "codemirror_mode": {
    "name": "ipython",
    "version": 2
   },
   "file_extension": ".py",
   "mimetype": "text/x-python",
   "name": "python",
   "nbconvert_exporter": "python",
   "pygments_lexer": "ipython2",
   "version": "2.7.11"
  }
 },
 "nbformat": 4,
 "nbformat_minor": 0
}
