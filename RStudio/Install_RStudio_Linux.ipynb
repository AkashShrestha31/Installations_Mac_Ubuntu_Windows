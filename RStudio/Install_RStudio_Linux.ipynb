{
 "cells": [
  {
   "cell_type": "markdown",
   "metadata": {},
   "source": [
    "<h1 align=\"center\"><span style =\"color:black;font-weight:bold\">Install R + RStudio on Ubuntu 12.04/14.04/16.04 </span> </h1>"
   ]
  },
  {
   "cell_type": "markdown",
   "metadata": {},
   "source": [
    "Youtube tutorial Install PySpark on Linux available at: "
   ]
  },
  {
   "cell_type": "markdown",
   "metadata": {},
   "source": [
    "1) Get the Latest R Version and Install It\n",
    "\n",
    "<span style =\"color:red;\"> sudo apt-key adv –keyserver keyserver.ubuntu.com –recv-keys E084DAB9 </span>\n",
    "\n",
    "<span style =\"color:red;\"> sudo add-apt-repository ‘deb http://star-www.st-andrews.ac.uk/cran/bin/linux/ubuntu trusty/’ </span>\n",
    "\n",
    "<span style =\"color:red;\"> sudo apt-get update </span>\n",
    "\n",
    "<span style =\"color:red;\"> sudo apt-get install r-base </span>\n"
   ]
  },
  {
   "cell_type": "markdown",
   "metadata": {},
   "source": [
    "<span style =\"color:black;font-weight:bold;font-size: 18px;\"> What Changes from Ubuntu 12.04/14.04/16.04 and other installations etc?  </span>\n",
    "\n",
    "Where you set your CRAN mirror: https://cran.r-project.org/mirrors.html\n",
    "\n",
    "https://cran.r-project.org/mirrors.html\n",
    "\n"
   ]
  },
  {
   "cell_type": "markdown",
   "metadata": {},
   "source": [
    "2) Download and install RStudio (gdebi is used since it installs the .deb file and all of its dependencies) \n",
    "\n",
    "<span style =\"color:red;\"> sudo apt-get install gdebi-core </span>\n",
    "\n",
    "<span style =\"color:red;\"> wget http://download1.rstudio.org/rstudio-0.98.1062-amd64.deb </span>\n",
    "\n",
    "<span style =\"color:red;\"> sudo gdebi rstudio-0.98.1062-amd64.deb </span>\n",
    "\n",
    "<span style =\"color:red;\"> rm *.deb </span>\n",
    "\n"
   ]
  },
  {
   "cell_type": "markdown",
   "metadata": {},
   "source": [
    "3) Check if Installation works by Opening RStudio and typing the command in red\n",
    "\n",
    "<span style =\"color:red;\"> install.packages(\"data.table\") </span>\n",
    "\n",
    "\n",
    "\n"
   ]
  },
  {
   "cell_type": "markdown",
   "metadata": {},
   "source": [
    "<span style =\"color:black;font-weight:bold;font-size: 18px;\">Testing the Installation </span>"
   ]
  },
  {
   "cell_type": "markdown",
   "metadata": {},
   "source": [
    "<img src=\"images/bashrc.png\" height=\"340\" width=\"340\">"
   ]
  },
  {
   "cell_type": "code",
   "execution_count": null,
   "metadata": {
    "collapsed": true
   },
   "outputs": [],
   "source": []
  }
 ],
 "metadata": {
  "kernelspec": {
   "display_name": "Python 2",
   "language": "python",
   "name": "python2"
  },
  "language_info": {
   "codemirror_mode": {
    "name": "ipython",
    "version": 2
   },
   "file_extension": ".py",
   "mimetype": "text/x-python",
   "name": "python",
   "nbconvert_exporter": "python",
   "pygments_lexer": "ipython2",
   "version": "2.7.11"
  }
 },
 "nbformat": 4,
 "nbformat_minor": 0
}
